{
 "cells": [
  {
   "cell_type": "code",
   "execution_count": 12,
   "id": "6094a896",
   "metadata": {},
   "outputs": [
    {
     "name": "stdout",
     "output_type": "stream",
     "text": [
      "[45  3 74 70 85 45 93 34 93 81]\n",
      "Média: 62.3\n",
      "Desvio Padrão: 28.039436513596346\n",
      "Menor e Maior: 3 93\n"
     ]
    },
    {
     "data": {
      "text/plain": [
       "<__main__.App at 0x2acb4133710>"
      ]
     },
     "execution_count": 12,
     "metadata": {},
     "output_type": "execute_result"
    }
   ],
   "source": [
    "import numpy as np\n",
    "class App:\n",
    "    def __init__(self):\n",
    "        self.arr = np.random.randint(100, size=(10))\n",
    "        print(self.arr)\n",
    "        print(\"Média:\", self.calcular_media())\n",
    "        print(\"Desvio Padrão:\", self.calcular_desvio_padrao())\n",
    "        print(\"Menor e Maior:\", self.maioremenor()[0], self.maioremenor()[1])\n",
    "\n",
    "    def calcular_media(self):\n",
    "        return np.mean(self.arr)\n",
    "    \n",
    "    def calcular_desvio_padrao(self):\n",
    "        return np.std(self.arr)\n",
    "    \n",
    "    def maioremenor(self):\n",
    "        return np.min(self.arr), np.max(self.arr)\n",
    "    \n",
    "App()"
   ]
  },
  {
   "cell_type": "code",
   "execution_count": 13,
   "id": "0cfb4d8c",
   "metadata": {},
   "outputs": [
    {
     "name": "stdout",
     "output_type": "stream",
     "text": [
      "Matriz 1:\n",
      " [[21 98  6 55]\n",
      " [22 98 58 80]\n",
      " [79 66 95 35]]\n",
      "Produto da matriz 1:\n",
      " [[13106 14814 10622]\n",
      " [14814 19852 16516]\n",
      " [10622 16516 20847]]\n",
      "Matriz 2:\n",
   