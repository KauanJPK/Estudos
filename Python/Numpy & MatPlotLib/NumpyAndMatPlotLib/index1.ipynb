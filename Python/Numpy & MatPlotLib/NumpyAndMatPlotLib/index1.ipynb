{
 "cells": [
  {
   "cell_type": "code",
   "execution_count": 12,
   "id": "6094a896",
   "metadata": {},
   "outputs": [
    {
     "name": "stdout",
     "output_type": "stream",
     "text": [
      "[45  3 74 70 85 45 93 34 93 81]\n",
      "Média: 62.3\n",
      "Desvio Padrão: 28.039436513596346\n",
      "Menor e Maior: 3 93\n"
     ]
    },
    {
     "data": {
      "text/plain": [
       "<__main__.App at 0x2acb4133710>"
      ]
     },
     "execution_count": 12,
     "metadata": {},
     "output_type": "execute_result"
    }
   ],
   "source": [
    "import numpy as np\n",
    "class App:\n",
    "    def __init__(self):\n",
    "        self.arr = np.random.randint(100, size=(10))\n",
    "        print(self.arr)\n",
    "        print(\"Média:\", self.calcular_media())\n",
    "        print(\"Desvio Padrão:\", self.calcular_desvio_padrao())\n",
    "        print(\"Menor e Maior:\", self.maioremenor()[0], self.maioremenor()[1])\n",
    "\n",
    "    def calcular_media(self):\n",
    "        return np.mean(self.arr)\n",
    "    \n",
    "    def calcular_desvio_padrao(self):\n",
    "        return np.std(self.arr)\n",
    "    \n",
    "    def maioremenor(self):\n",
    "        return np.min(self.arr), np.max(self.arr)\n",
    "    \n",
    "App()"
   ]
  },
  {
   "cell_type": "code",
   "execution_count": 14,
   "id": "0cfb4d8c",
   "metadata": {},
   "outputs": [
    {
     "name": "stdout",
     "output_type": "stream",
     "text": [
      "Matriz 1:\n",
      " [[20  4 89]\n",
      " [17 46 14]\n",
      " [52 13 55]]\n",
      "Produto da matriz 1:\n",
      " [[5096 1421 6731]\n",
      " [1850 2366 2927]\n",
      " [4121 1521 7835]]\n",
      "Matriz 2:\n",
      " [[40 14 81]\n",
      " [35 54  7]\n",
      " [54 41 26]]\n",
      "Produto da matriz 2:\n",
      " [[6464 4637 5444]\n",
      " [3668 3693 3395]\n",
      " [4999 4036 5337]]\n",
      "Produto das Matrizes:\n",
      " [[5746 4145 3962]\n",
      " [3046 3296 2063]\n",
      " [5505 3685 5733]]\n"
     ]
    }
   ],
   "source": [
    "        m1 = np.random.randint(100, size=(3, 3))\n",
    "        m2 = np.random.randint(100, size=(3, 3))\n",
    "        print(\"Matriz 1:\\n\", m1)\n",
    "        print(\"Produto da matriz 1:\\n\", np.dot(m1, m1))\n",
    "        print(\"Matriz 2:\\n\", m2)\n",
    "        print(\"Produto da matriz 2:\\n\", np.dot(m2, m2))\n",
    "        print(\"Produto das Matrizes:\\n\", np.dot(m1, m2))\n"
   ]
  },
  {
   "cell_type": "code",
   "execution_count": 17,
   "id": "13988028",
   "metadata": {},
   "outputs": [
    {
     "name": "stdout",
     "output_type": "stream",
     "text": [
      "Valores Espaçados:\n",
      " [0.         0.06411414 0.12822827 0.19234241 0.25645654 0.32057068\n",
      " 0.38468481 0.44879895 0.51291309 0.57702722 0.64114136 0.70525549\n",
      " 0.76936963 0.83348377 0.8975979  0.96171204 1.02582617 1.08994031\n",
      " 1.15405444 1.21816858 1.28228272 1.34639685 1.41051099 1.47462512\n",
      " 1.53873926 1.60285339 1.66696753 1.73108167 1.7951958  1.85930994\n",
      " 1.92342407 1.98753821 2.05165235 2.11576648 2.17988062 2.24399475\n",
      " 2.30810889 2.37222302 2.43633716 2.5004513  2.56456543 2.62867957\n",
      " 2.6927937  2.75690784 2.82102197 2.88513611 2.94925025 3.01336438\n",
      " 3.07747852 3.14159265]\n",
      "Seno dos Valores Espaçados:\n",
      " [0.00000000e+00 6.40702200e-02 1.27877162e-01 1.91158629e-01\n",
      " 2.53654584e-01 3.15108218e-01 3.75267005e-01 4.33883739e-01\n",
      " 4.90717552e-01 5.45534901e-01 5.98110530e-01 6.48228395e-01\n",
      " 6.95682551e-01 7.40277997e-01 7.81831482e-01 8.20172255e-01\n",
      " 8.55142763e-01 8.86599306e-01 9.14412623e-01 9.38468422e-01\n",
      " 9.58667853e-01 9.74927912e-01 9.87181783e-01 9.95379113e-01\n",
      " 9.99486216e-01 9.99486216e-01 9.95379113e-01 9.87181783e-01\n",
      " 9.74927912e-01 9.58667853e-01 9.38468422e-01 9.14412623e-01\n",
      " 8.86599306e-01 8.55142763e-01 8.20172255e-01 7.81831482e-01\n",
      " 7.40277997e-01 6.95682551e-01 6.48228395e-01 5.98110530e-01\n",
      " 5.45534901e-01 4.90717552e-01 4.33883739e-01 3.75267005e-01\n",
      " 3.15108218e-01 2.53654584e-01 1.91158629e-01 1.27877162e-01\n",
      " 6.40702200e-02 1.22464680e-16]\n",
      "Cosseno dos Valores Espaçados:\n",
      " [ 1.          0.99794539  0.99179001  0.98155916  0.96729486  0.94905575\n",
      "  0.92691676  0.90096887  0.8713187   0.8380881   0.80141362  0.76144596\n",
      "  0.71834935  0.67230089  0.6234898   0.57211666  0.51839257  0.46253829\n",
      "  0.40478334  0.34536505  0.28452759  0.22252093  0.1595999   0.09602303\n",
      "  0.03205158 -0.03205158 -0.09602303 -0.1595999  -0.22252093 -0.28452759\n",
      " -0.34536505 -0.40478334 -0.46253829 -0.51839257 -0.57211666 -0.6234898\n",
      " -0.67230089 -0.71834935 -0.76144596 -0.80141362 -0.8380881  -0.8713187\n",
      " -0.90096887 -0.92691676 -0.94905575 -0.96729486 -0.98155916 -0.99179001\n",
      " -0.99794539 -1.        ]\n"
     ]
    }
   ],
   "source": [
    "        arr = np.linspace(0, np.pi, 50)\n",
    "        print(\"Valores Espaçados:\\n\", arr)\n",
    "        print(\"Seno dos Valores Espaçados:\\n\", np.sin(arr))\n",
    "        print(\"Cosseno dos Valores Espaçados:\\n\", np.cos(arr))"
   ]
  }
 ],
 "metadata": {
  "kernelspec": {
   "display_name": "NumpyAndMatPlotLib",
   "language": "python",
   "name": "python3"
  },
  "language_info": {
   "codemirror_mode": {
    "name": "ipython",
    "version": 3
   },
   "file_extension": ".py",
   "mimetype": "text/x-python",
   "name": "python",
   "nbconvert_exporter": "python",
   "pygments_lexer": "ipython3",
   "version": "3.12.10"
  }
 },
 "nbformat": 4,
 "nbformat_minor": 5
}
